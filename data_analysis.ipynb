{
 "cells": [
  {
   "cell_type": "code",
   "execution_count": 30,
   "outputs": [
    {
     "name": "stdout",
     "output_type": "stream",
     "text": [
      "Head data\n",
      "    Id  SeriousDlqin2yrs  RevolvingUtilizationOfUnsecuredLines  age  \\\n",
      "0   1                 1                              0.766127   45   \n",
      "1   2                 0                              0.957151   40   \n",
      "2   3                 0                              0.658180   38   \n",
      "3   4                 0                              0.233810   30   \n",
      "4   5                 0                              0.907239   49   \n",
      "\n",
      "   NumberOfTime30-59DaysPastDueNotWorse  DebtRatio  MonthlyIncome  \\\n",
      "0                                     2   0.802982         9120.0   \n",
      "1                                     0   0.121876         2600.0   \n",
      "2                                     1   0.085113         3042.0   \n",
      "3                                     0   0.036050         3300.0   \n",
      "4                                     1   0.024926        63588.0   \n",
      "\n",
      "   NumberOfOpenCreditLinesAndLoans  NumberOfTimes90DaysLate  \\\n",
      "0                               13                        0   \n",
      "1                                4                        0   \n",
      "2                                2                        1   \n",
      "3                                5                        0   \n",
      "4                                7                        0   \n",
      "\n",
      "   NumberRealEstateLoansOrLines  NumberOfTime60-89DaysPastDueNotWorse  \\\n",
      "0                             6                                     0   \n",
      "1                             0                                     0   \n",
      "2                             0                                     0   \n",
      "3                             0                                     0   \n",
      "4                             1                                     0   \n",
      "\n",
      "   NumberOfDependents  \n",
      "0                 2.0  \n",
      "1                 1.0  \n",
      "2                 0.0  \n",
      "3                 0.0  \n",
      "4                 0.0  \n",
      "Tail data\n",
      "         Id  SeriousDlqin2yrs  RevolvingUtilizationOfUnsecuredLines  age  \\\n",
      "1345  1346                 0                              0.000000   39   \n",
      "1346  1347                 0                              0.045694   49   \n",
      "1347  1348                 0                              0.022780   53   \n",
      "1348  1349                 0                              0.036934   56   \n",
      "1349  1350                 0                              0.000000   62   \n",
      "\n",
      "      NumberOfTime30-59DaysPastDueNotWorse    DebtRatio  MonthlyIncome  \\\n",
      "1345                                     0     0.055916         4166.0   \n",
      "1346                                     0     0.300175         4000.0   \n",
      "1347                                     0     0.323068        10000.0   \n",
      "1348                                     0     0.287935         8362.0   \n",
      "1349                                     0  1463.000000            NaN   \n",
      "\n",
      "      NumberOfOpenCreditLinesAndLoans  NumberOfTimes90DaysLate  \\\n",
      "1345                                5                        0   \n",
      "1346                               14                        0   \n",
      "1347                               14                        0   \n",
      "1348                                8                        0   \n",
      "1349                                5                        0   \n",
      "\n",
      "      NumberRealEstateLoansOrLines  NumberOfTime60-89DaysPastDueNotWorse  \\\n",
      "1345                             0                                     0   \n",
      "1346                             1                                     0   \n",
      "1347                             2                                     0   \n",
      "1348                             1                                     0   \n",
      "1349                             1                                     0   \n",
      "\n",
      "      NumberOfDependents  \n",
      "1345                 0.0  \n",
      "1346                 1.0  \n",
      "1347                 1.0  \n",
      "1348                 2.0  \n",
      "1349                 0.0  \n"
     ]
    }
   ],
   "source": [
    "import tensorflow as tf\n",
    "import pandas as pd\n",
    "from tensorflow import keras\n",
    "import numpy as np\n",
    "import matplotlib.pyplot as plt\n",
    "import os\n",
    "\n",
    "#read data files\n",
    "url = \"https://raw.githubusercontent.com/victoriyagloba/prpo3/main/data.csv\"\n",
    "train_data = pd.read_csv(url)\n",
    "print(\"Head data\\n\", train_data.head())\n",
    "print(\"Tail data\\n\",train_data.tail())"
   ],
   "metadata": {
    "collapsed": false,
    "pycharm": {
     "name": "#%%\n"
    }
   }
  }
 ],
 "metadata": {
  "kernelspec": {
   "display_name": "Python 3",
   "language": "python",
   "name": "python3"
  },
  "language_info": {
   "codemirror_mode": {
    "name": "ipython",
    "version": 2
   },
   "file_extension": ".py",
   "mimetype": "text/x-python",
   "name": "python",
   "nbconvert_exporter": "python",
   "pygments_lexer": "ipython2",
   "version": "2.7.6"
  }
 },
 "nbformat": 4,
 "nbformat_minor": 0
}